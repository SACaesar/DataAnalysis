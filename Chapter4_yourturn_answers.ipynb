{
 "cells": [
  {
   "cell_type": "markdown",
   "metadata": {},
   "source": [
    "# To be completed at the Live Session and in your own time.\n",
    "\n",
    "These set of examples we will help you get familiar with estimating probabilities and using Bayes Theorem within a Jupyter notebook. \n",
    "\n",
    "Before attempting these examples, please ensure you have read through [Chapter 4 Jupyter Notebook](https://github.com/haleygomez/Data-Analysis-2022/blob/master/blended_exercises/Chapter4/Chapter4.ipynb) and have completed the Learning Central **Chapter 4 quiz**. \n",
    "\n",
    "These are good practice for CA 1 Question 5."
   ]
  },
  {
   "cell_type": "markdown",
   "metadata": {},
   "source": [
    "***"
   ]
  },
  {
   "cell_type": "markdown",
   "metadata": {},
   "source": [
    "# Errors"
   ]
  },
  {
   "cell_type": "markdown",
   "metadata": {},
   "source": [
    "## Question "
   ]
  },
  {
   "cell_type": "markdown",
   "metadata": {},
   "source": [
    "Three students measure the same resistance several times, with final measurements (in Ohms):\n",
    "\n",
    "Student 1: $R = 11 \\pm 1$\n",
    "Student 2: $R = 12 \\pm 1$\n",
    "Student 3: $R = 10 \\pm 3$.\n",
    "\n",
    "Given these three results what do we write down as the best estimate for the resistance $R$? Tip: you will need to use weighted errors."
   ]
  },
  {
   "cell_type": "markdown",
   "metadata": {},
   "source": [
    "### Answer"
   ]
  },
  {
   "cell_type": "markdown",
   "metadata": {},
   "source": [
    "The weights are given by $w = 1/\\sigma_i^2$.  The weighted average is \n",
    "\n",
    "$R= \\dfrac{\\sum{w_i R}}{\\sum{w_i}}$\n",
    "\n",
    "\n",
    "In python:"
   ]
  },
  {
   "cell_type": "code",
   "execution_count": 2,
   "metadata": {},
   "outputs": [
    {
     "name": "stdout",
     "output_type": "stream",
     "text": [
      "The resistance is 11.4 +/- 0.7 Ohms\n"
     ]
    }
   ],
   "source": [
    "import numpy as np\n",
    "\n",
    "R = np.array([11.,12.,10.])\n",
    "std = np.array([1.,1.,3.])\n",
    "\n",
    "\n",
    "weights = 1./(std**2.)\n",
    "\n",
    "best_r = np.sum(weights*R)/np.sum(weights) \n",
    "uncert_r = np.sqrt(1./np.sum(weights))\n",
    "\n",
    "print('The resistance is {:.1f} +/- {:.1f} Ohms'.format(best_r,uncert_r))"
   ]
  },
  {
   "cell_type": "markdown",
   "metadata": {},
   "source": [
    "***"
   ]
  },
  {
   "cell_type": "markdown",
   "metadata": {},
   "source": [
    "# Correlation"
   ]
  },
  {
   "cell_type": "markdown",
   "metadata": {},
   "source": [
    "## Question "
   ]
  },
  {
   "cell_type": "markdown",
   "metadata": {},
   "source": [
    " The datafile [worldpopulation.txt](https://github.com/haleygomez/Data-Analysis-2021/raw/master/blended_exercises/Chapter4/worldpopulation.txt) contains the world population size measured since 1960. Plot the data (you will need to upload the datafile to your Google Colab). <br><br>\n",
    "\n",
    "Measure the correlation coefficient using the in built Python package for the Pearson $r$s statistic. <br><br>\n",
    "\n",
    "Measure it again but this time creating the functions to calculate $r$ from scratch.  \n",
    "\n",
    "The url of the file is \"https://github.com/haleygomez/Data-Analysis-2021/raw/master/blended_exercises/Chapter4/worldpopulation.txt\""
   ]
  },
  {
   "cell_type": "markdown",
   "metadata": {},
   "source": [
    "### Answer"
   ]
  },
  {
   "cell_type": "markdown",
   "metadata": {},
   "source": [
    "Remember for students using google colab, instead try \n",
    "\n",
    "> `!wget -O worldpopulation.txt \"https://github.com/haleygomez/Data-Analysis-2021/raw/master/blended_exercises/Chapter4/worldpopulation.txt\"`"
   ]
  },
  {
   "cell_type": "code",
   "execution_count": 3,
   "metadata": {},
   "outputs": [
    {
     "data": {
      "text/plain": [
       "Text(0.5, 0, 'year')"
      ]
     },
     "execution_count": 3,
     "metadata": {},
     "output_type": "execute_result"
    },
    {
     "data": {
      "image/png": "[encoded data removed]",
      "text/plain": [
       "<Figure size 432x288 with 1 Axes>"
      ]
     },
     "metadata": {
      "needs_background": "light"
     },
     "output_type": "display_data"
    }
   ],
   "source": [
    "import numpy as np\n",
    "import pylab as plt\n",
    "\n",
    "# the line below makes the plot appear in the jupyter notebook\n",
    "%matplotlib inline  \n",
    "\n",
    "data = np.genfromtxt('files_needed/worldpopulation.txt')\n",
    "\n",
    "plt.plot(data[0],data[1],'.')\n",
    "plt.ylabel('y')\n",
    "plt.xlabel('year')"
   ]
  },
  {
   "cell_type": "markdown",
   "metadata": {},
   "source": [
    "Calculate $r$ using in built python function."
   ]
  },
  {
   "cell_type": "code",
   "execution_count": 4,
   "metadata": {},
   "outputs": [
    {
     "name": "stdout",
     "output_type": "stream",
     "text": [
      "Pearsons correlation for the world population growth is: 0.99956\n"
     ]
    }
   ],
   "source": [
    "from scipy.stats import pearsonr\n",
    "\n",
    "corr, _ = pearsonr(data[0], data[1])\n",
    "print('Pearsons correlation for the world population growth is: %.5f' % corr)"
   ]
  },
  {
   "cell_type": "markdown",
   "metadata": {},
   "source": [
    "Now calculate $r$ by hand using the information in Chapter 4 notebook."
   ]
  },
  {
   "cell_type": "code",
   "execution_count": 5,
   "metadata": {},
   "outputs": [
    {
     "name": "stdout",
     "output_type": "stream",
     "text": [
      "average number is 5.22e+09 +/- 1.38e+09\n",
      "average year is 1989 +/- 17\n",
      "\n",
      "correlation coefficient between the two is 0.99956\n"
     ]
    }
   ],
   "source": [
    "# need to know how many data points\n",
    "n = len(data[0])\n",
    "\n",
    "# get some means + stdevs calculated\n",
    "mean_n = np.mean(data[1])\n",
    "std_n =  np.sqrt( np.sum((data[1]-mean_n)**2.0)/(n-1))\n",
    "\n",
    "mean_yr = np.mean(data[0])\n",
    "std_yr = np.sqrt( np.sum((data[0]-mean_yr)**2.0)/(n-1))\n",
    "\n",
    "print('average number is {:.2e} +/- {:.2e}'.format(mean_n,std_n))\n",
    "print('average year is {:.0f} +/- {:.0f}'.format(mean_yr,std_yr))\n",
    "\n",
    "\n",
    "# correlation coefficient \n",
    "sum_xdiff_ydiff = np.sum((data[0]-mean_yr)*(data[1]-mean_n)) \n",
    "\n",
    "# denominator of correlation coefficient \n",
    "sum_x_diff_mean_sq = np.sum([(data[0]-mean_yr)**2])\n",
    "sum_y_diff_mean_sq = np.sum([(data[1]-mean_n)**2])\n",
    "                            \n",
    "r = sum_xdiff_ydiff/ np.sqrt(sum_x_diff_mean_sq* sum_y_diff_mean_sq) \n",
    "\n",
    "print()\n",
    "print('correlation coefficient between the two is {:.5f}'.format(r))"
   ]
  },
  {
   "cell_type": "markdown",
   "metadata": {},
   "source": [
    "Correlation Coefficient is almost 1, indicating a very strong positive correlation in this data."
   ]
  },
  {
   "cell_type": "markdown",
   "metadata": {},
   "source": [
    "***"
   ]
  },
  {
   "cell_type": "markdown",
   "metadata": {},
   "source": [
    "# Hypothesis Testing"
   ]
  },
  {
   "cell_type": "markdown",
   "metadata": {},
   "source": [
    "## Question"
   ]
  },
  {
   "cell_type": "markdown",
   "metadata": {},
   "source": [
    "A company releases a new ski wax that it claims (naturally) is superior to its rivals, and greatly reduces the friction between skis and snow. A skiing magazine decides to test the claim by performing an experiment. They take 10 pairs of skis, and treat one ski from each pair -- the left one -- with the new wax, and the other (the right) ski with the wax from a competing brand. Each pair of skis are then released from the top of a ramp in turn, and they record which of the two skis reach the bottom of the ramp first.    The team find that the new skis win 8 of the 10 races.  Is their claim correct?"
   ]
  },
  {
   "cell_type": "markdown",
   "metadata": {},
   "source": [
    "### Answer"
   ]
  },
  {
   "cell_type": "markdown",
   "metadata": {},
   "source": [
    "Let's set our null hypothesis: that the new wax makes no difference eg each ski should have the same probability of crossing the line first \n",
    "\n",
    "$p(\\text{new wax win}) = p(\\text{new wax lose}) = 0.5$\n",
    "\n",
    "The probability of winning all 10 races with the treated skis is \n",
    "\n",
    "$p(\\nu {\\rm ~wins~ in ~10~ races}) =  B_{10, 0.5}(\\nu) = \\dfrac{10!}{\\nu!(10-\\nu)!} \\left( \\dfrac{1}{2} \\right)^{10} < 0.1\\%$\n",
    "\n",
    "So if our null hypothesis is correct, then the probability of winning all 10 races would be really unlikely. \n",
    "\n",
    "So what is the probability of winning 8 races given our null hypothesis? We need to account for the fact that\n",
    "\n",
    "$P({\\rm 8 ~or~ more ~wins ~in~ 10 ~races}) = p({\\rm 8~ wins}) + p({\\rm 9~ wins}) + p({\\rm 10~ wins})$\n",
    "\n",
    "Note that we do this instead of just calculating $B_{10, 0.5}(8)$ for the following reason:  consider the case where we had 100 races. The chances of getting exactly 80 wins is now quite a bit less than the chance of winning 8 out of 10 races even though the fractional difference is the same!"
   ]
  },
  {
   "cell_type": "code",
   "execution_count": 6,
   "metadata": {},
   "outputs": [
    {
     "name": "stdout",
     "output_type": "stream",
     "text": [
      "probability the treated skis win at least 8 races out of 10 is 0.05\n"
     ]
    }
   ],
   "source": [
    "from scipy.stats import binom\n",
    "\n",
    "# example for winning all 10 races\n",
    "nu = 10\n",
    "p=0.5\n",
    "N=10\n",
    "prob_all_10  = binom.pmf(nu,N, p)\n",
    "\n",
    "# example for winning 8 out of 10\n",
    "nu = 8\n",
    "p=0.5\n",
    "N=10\n",
    "prob_8  = binom.pmf(nu,N, p)\n",
    "\n",
    "# but we need to add the probability they get 8 or more wins in 10 races\n",
    "item = [8,9,10]\n",
    "prob_sum = 0.\n",
    "\n",
    "for i in range(len(item)):\n",
    "    prob_sum = binom.pmf(item[i],N, p)+prob_sum\n",
    "\n",
    "print('probability the treated skis win at least 8 \\\n",
    "races out of 10 is {:.2f}'.format(prob_sum))"
   ]
  },
  {
   "cell_type": "markdown",
   "metadata": {},
   "source": [
    "So do we reject our null hypothesis? There are 2 alternatives:\n",
    "\n",
    "- Our null hypothesis is correct, but by chance an unlikely event has occurred (the new wax makes no difference, but by a fluke, those skis with this wax won anyway)\n",
    "- our null hypothesis is false (the new wax really is helping the skis to go faster)\n",
    "\n",
    "We saw above that the probability of seeing at least 8 wins in 10 races was 5.5%, which is above our 5% boundary: we cannot reject the null hypothesis with this experiment. Our results were not significant. \n",
    "\n",
    "But if we had measured 10 wins in 10 races, since the probability was so low, then we could have said that there was significant evidence that the wax helps. "
   ]
  },
  {
   "cell_type": "markdown",
   "metadata": {},
   "source": [
    "***"
   ]
  }
 ],
 "metadata": {
  "kernelspec": {
   "display_name": "Python 3",
   "language": "python",
   "name": "python3"
  },
  "language_info": {
   "codemirror_mode": {
    "name": "ipython",
    "version": 3
   },
   "file_extension": ".py",
   "mimetype": "text/x-python",
   "name": "python",
   "nbconvert_exporter": "python",
   "pygments_lexer": "ipython3",
   "version": "3.7.4"
  }
 },
 "nbformat": 4,
 "nbformat_minor": 2
}
