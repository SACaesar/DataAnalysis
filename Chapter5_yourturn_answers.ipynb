{
  "nbformat": 4,
  "nbformat_minor": 0,
  "metadata": {
    "kernelspec": {
      "display_name": "Python 3",
      "language": "python",
      "name": "python3"
    },
    "language_info": {
      "codemirror_mode": {
        "name": "ipython",
        "version": 3
      },
      "file_extension": ".py",
      "mimetype": "text/x-python",
      "name": "python",
      "nbconvert_exporter": "python",
      "pygments_lexer": "ipython3",
      "version": "3.7.4"
    },
    "colab": {
      "name": "Chapter5_yourturn_answers.ipynb",
      "provenance": [],
      "include_colab_link": true
    }
  },
  "cells": [
    {
      "cell_type": "markdown",
      "metadata": {
        "id": "view-in-github",
        "colab_type": "text"
      },
      "source": [
        "<a href=\"https://colab.research.google.com/github/SACaesar/DataAnalysis/blob/main/Chapter5_yourturn_answers.ipynb\" target=\"_parent\"><img src=\"https://colab.research.google.com/assets/colab-badge.svg\" alt=\"Open In Colab\"/></a>"
      ]
    },
    {
      "cell_type": "markdown",
      "metadata": {
        "id": "LP427l4b2oK8"
      },
      "source": [
        "# To be completed at the Live Session and in your own time.\n",
        "\n",
        "These set of examples we will help you get familiar with non parametric tests and correlations within a Jupyter notebook.   The questions coloured green are important practice for CA, particularly Question 5.\n",
        "\n",
        "Before attempting these examples, please ensure you have read through [Chapter 5 Jupyter Notebook](https://github.com/haleygomez/Data-Analysis-2022/blob/master/blended_exercises/Chapter%205/Chapter5.ipynb) and have completed the Learning Central **Chapter 5 quiz**. "
      ]
    },
    {
      "cell_type": "markdown",
      "metadata": {
        "id": "SEtQjXXc2oLB"
      },
      "source": [
        "***"
      ]
    },
    {
      "cell_type": "markdown",
      "metadata": {
        "id": "cYMnwyuO2oLC"
      },
      "source": [
        "#  Hypothesis Testing\n"
      ]
    },
    {
      "cell_type": "markdown",
      "metadata": {
        "id": "OqagmMMQ2oLD"
      },
      "source": [
        "## <font color=#30a64d>Question</font> "
      ]
    },
    {
      "cell_type": "markdown",
      "metadata": {
        "id": "lqxyhzu22oLD"
      },
      "source": [
        "The datafile [worldpopulation.txt](https://github.com/haleygomez/Data-Analysis-2022/blob/master/blended_exercises/Chapter4/worldpopulation.txt) contains the world population size measured since 1960. Plot the data (you will need to upload the datafile to your Google Colab). <br><br>\n",
        "\n",
        "1. Measure the correlation coefficient using the in built Python package for Spearman's $\\rho$ statistic. \n",
        "\n",
        "2. Measure it again but this time creating the functions to calculate Spearman's $\\rho$ from scratch.   You can use the in-built function to rank datasets from scipy.stats: `from scipy.stats import rankdata`."
      ]
    },
    {
      "cell_type": "markdown",
      "metadata": {
        "id": "X2BaCJMs2oLE"
      },
      "source": [
        "### Answer"
      ]
    },
    {
      "cell_type": "markdown",
      "metadata": {
        "id": "FSqPwzv62oLF"
      },
      "source": [
        "Spearman's rank correlation is given by:\n",
        "\n",
        "$\\rho_s = \\dfrac{\\sum_{i = 1}^N  \\,R(x_i)\\,R(y_i) - N(N + 1)^2/4} {\\sqrt{\\sum_{i = 1}^N  \\,R(x_i)^2 - N(N + 1)^2/4} \\sqrt{\\sum_{i = 1}^N  \\,R(y_i)^2 - N(N + 1)^2/4}}$\n",
        "\n",
        "1. First we'll calculate $\\rho$ using the in-built python function."
      ]
    },
    {
      "cell_type": "code",
      "metadata": {
        "id": "3aut3Sfa2oLH",
        "outputId": "fbad8f30-3034-46f3-be22-97bf67bfed36"
      },
      "source": [
        "import numpy as np\n",
        "from scipy.stats import spearmanr\n",
        "\n",
        "data = np.genfromtxt('files_needed/worldpopulation.txt')\n",
        "\n",
        "corr, _ = spearmanr(data[0], data[1])\n",
        "print('The Spearman rho correlation for the world population growth is: %.5f' % corr)"
      ],
      "execution_count": null,
      "outputs": [
        {
          "name": "stdout",
          "output_type": "stream",
          "text": [
            "The Spearman rho correlation for the world population growth is: 1.00000\n"
          ]
        }
      ]
    },
    {
      "cell_type": "markdown",
      "metadata": {
        "id": "aRHV_stj2oLJ"
      },
      "source": [
        "2. Now calculate $\\rho$ by hand using the information in Chapter 5 notebook."
      ]
    },
    {
      "cell_type": "code",
      "metadata": {
        "id": "6mB5tP4N2oLK",
        "outputId": "8ebe79ed-0874-4910-d8c7-3bd512d2fb6a"
      },
      "source": [
        "from scipy.stats import rankdata\n",
        "\n",
        "# how many data points do we have?\n",
        "N = len(data[0])\n",
        "\n",
        "# let's rank the data\n",
        "r_x = rankdata(data[0])\n",
        "r_y = rankdata(data[1])\n",
        "\n",
        "# need to set up equation for spearman rho\n",
        "def rho_s(rank_x,rank_y,N):\n",
        "    top = np.sum(rank_x*rank_y) - (N*(N+1)**2./4)\n",
        "    bottom_1 = np.sqrt( np.sum(rank_x**2.) - (N*(N+1)**2./4)   )  \n",
        "    bottom_2 = np.sqrt( np.sum(rank_y**2.) - (N*(N+1)**2./4)   )\n",
        "    rho = top / (bottom_1*bottom_2)\n",
        "    return rho\n",
        "\n",
        "rho = rho_s(r_x,r_y,N)\n",
        "print('Spearman rank statistic is {:.3f}'.format(rho))"
      ],
      "execution_count": null,
      "outputs": [
        {
          "name": "stdout",
          "output_type": "stream",
          "text": [
            "Spearman rank statistic is 1.000\n"
          ]
        }
      ]
    },
    {
      "cell_type": "markdown",
      "metadata": {
        "id": "puUHRy7_2oLL"
      },
      "source": [
        "***"
      ]
    },
    {
      "cell_type": "markdown",
      "metadata": {
        "id": "mnb308r62oLM"
      },
      "source": [
        "# KS Test"
      ]
    },
    {
      "cell_type": "markdown",
      "metadata": {
        "id": "ulhFUa_u2oLM"
      },
      "source": [
        "## Question"
      ]
    },
    {
      "cell_type": "markdown",
      "metadata": {
        "id": "WOU_kbMY2oLM"
      },
      "source": [
        "Two near-by apple trees are in bloom in an otherwise empty field. One is a Whitney Crab the other is a Redwell. We want to test if bees prefer one tree to the other.\n",
        "\n",
        "To do this we collect data. We use a stop watch to time how long a bee stays near a particular tree. We begin to time when the bee touches the tree, we stop timing when the bee is more than a metre from the tree. Unfortunately we did not get exactly the same number of bees for each tree as it started to rain.   The data is below (time is in seconds). Can we conclude anything based on our experiment?\n",
        "\n",
        "redwell= 23.4, 30.9, 18.8, 23.0, 21.4, 1, 24.6, 23.8, 24.1, 18.7, 16.3, 20.3, 14.9, 35.4, 21.6, 21.2, 21.0, 15.0, 15.6, 24.0, 34.6, 40.9, 30.7, 24.5, 16.6, 1, 21.7, 1, 23.6, 1, 25.7, 19.3, 46.9, 23.3, 21.8, 33.3, 24.9, 24.4, 1, 19.8, 17.2, 21.5, 25.5, 23.3, 18.6, 22.0, 29.8, 33.3, 1, 21.3, 18.6, 26.8, 19.4, 21.1, 21.2, 20.5, 19.8, 26.3, 39.3, 21.4, 22.6, 1, 35.3, 7.0, 19.3, 21.3, 10.1, 20.2, 1, 36.2, 16.7, 21.1, 39.1, 19.9, 32.1, 23.1, 21.8, 30.4, 19.62, 15.5 \n",
        "\n",
        "whitney=16.5, 1, 22.6, 25.3, 23.7, 1, 23.3, 23.9, 16.2, 23.0, 21.6, 10.8, 12.2, 23.6, 10.1, 24.4, 16.4, 11.7, 17.7, 34.3, 24.3, 18.7, 27.5, 25.8, 22.5, 14.2, 21.7, 1, 31.2, 13.8, 29.7, 23.1, 26.1, 25.1, 23.4, 21.7, 24.4, 13.2, 22.1, 26.7, 22.7, 1, 18.2, 28.7, 29.1, 27.4, 22.3, 13.2, 22.5, 25.0, 1, 6.6, 23.7, 23.5, 17.3, 24.6, 27.8, 29.7, 25.3, 19.9, 18.2, 26.2, 20.4, 23.3, 26.7, 26.0, 1, 25.1, 33.1, 35.0, 25.3, 23.6, 23.2, 20.2, 24.7, 22.6, 39.1, 26.5, 22.7"
      ]
    },
    {
      "cell_type": "markdown",
      "metadata": {
        "id": "SIG0dimf2oLN"
      },
      "source": [
        "### Answer"
      ]
    },
    {
      "cell_type": "markdown",
      "metadata": {
        "id": "2PaslLQd2oLN"
      },
      "source": [
        "The null hypothesis is that there is no difference in the datasets, ie that bees do not prefer one tree over the other. Let's first look at the data."
      ]
    },
    {
      "cell_type": "code",
      "metadata": {
        "id": "ebnLob_V2oLN",
        "outputId": "17617769-8dab-4d70-eebc-4f08bcbb55b2"
      },
      "source": [
        "import pylab as plt\n",
        "%matplotlib inline\n",
        "\n",
        "redwell = [23.4, 30.9, 18.8, 23.0, 21.4, 1, 24.6, 23.8, 24.1, 18.7, 16.3, 20.3, 14.9, 35.4, 21.6, 21.2, 21.0, 15.0, 15.6, 24.0, 34.6, 40.9, 30.7, 24.5, 16.6, 1, 21.7, 1, 23.6, 1, 25.7, 19.3, 46.9, 23.3, 21.8, 33.3, 24.9, 24.4, 1, 19.8, 17.2, 21.5, 25.5, 23.3, 18.6, 22.0, 29.8, 33.3, 1, 21.3, 18.6, 26.8, 19.4, 21.1, 21.2, 20.5, 19.8, 26.3, 39.3, 21.4, 22.6, 1, 35.3, 7.0, 19.3, 21.3, 10.1, 20.2, 1, 36.2, 16.7, 21.1, 39.1, 19.9, 32.1, 23.1, 21.8, 30.4, 19.62, 15.5] \n",
        "\n",
        "whitney = [16.5, 1, 22.6, 25.3, 23.7, 1, 23.3, 23.9, 16.2, 23.0, 21.6, 10.8, 12.2, 23.6, 10.1, 24.4, 16.4, 11.7, 17.7, 34.3, 24.3, 18.7, 27.5, 25.8, 22.5, 14.2, 21.7, 1, 31.2, 13.8, 29.7, 23.1, 26.1, 25.1, 23.4, 21.7, 24.4, 13.2, 22.1, 26.7, 22.7, 1, 18.2, 28.7, 29.1, 27.4, 22.3, 13.2, 22.5, 25.0, 1, 6.6, 23.7, 23.5, 17.3, 24.6, 27.8, 29.7, 25.3, 19.9, 18.2, 26.2, 20.4, 23.3, 26.7, 26.0, 1, 25.1, 33.1, 35.0, 25.3, 23.6, 23.2, 20.2, 24.7, 22.6, 39.1, 26.5, 22.7]\n",
        "\n",
        "#make a function to plot the cumulative distribution function for the samples\n",
        "def cdf(x):\n",
        "    xs = np.sort(x)\n",
        "    # this basically makes a cumulative distribution function\n",
        "    ys = np.arange(1, len(xs)+1)/float(len(xs))\n",
        "    return xs, ys\n",
        "\n",
        "r_t,r_cdf = cdf(redwell)\n",
        "w_t,w_cdf = cdf(whitney)\n",
        "\n",
        "plt.figure(figsize=(12,8))\n",
        "plt.subplot(221)\n",
        "plt.plot(r_t,r_cdf,label='Redwell')\n",
        "plt.plot(w_t,w_cdf,label='Whitney')\n",
        "\n",
        "#plt.xlim(0.1,100)\n",
        "plt.ylim(0.1,1)\n",
        "plt.legend()\n",
        "plt.title('CDF')\n",
        "plt.ylabel('CDF')\n",
        "plt.xlabel('time bees spent at tree')\n",
        "\n",
        "plt.subplot(222)\n",
        "plt.plot(r_t,r_cdf,label='Redwell')\n",
        "plt.plot(w_t,w_cdf,label='Whitney')\n",
        "\n",
        "plt.xlim(20,40)\n",
        "plt.ylim(0.3,1)\n",
        "plt.legend()\n",
        "plt.title('Zoom in on CDF')\n",
        "plt.ylabel('CDF')\n",
        "plt.xlabel('time bees spent at tree')\n"
      ],
      "execution_count": null,
      "outputs": [
        {
          "data": {
            "text/plain": [
              "Text(0.5, 0, 'time bees spent at tree')"
            ]
          },
          "execution_count": 3,
          "metadata": {},
          "output_type": "execute_result"
        },
        {
          "data": {
            "image/png": "[encoded data removed]",
            "text/plain": [
              "<Figure size 864x576 with 2 Axes>"
            ]
          },
          "metadata": {
            "needs_background": "light"
          },
          "output_type": "display_data"
        }
      ]
    },
    {
      "cell_type": "code",
      "metadata": {
        "id": "ImXOdhX12oLO",
        "outputId": "3dfd49de-92b3-496a-9f34-b4979665f5c9"
      },
      "source": [
        "from scipy.stats import ks_2samp\n",
        "results = ks_2samp(redwell,whitney)\n",
        "\n",
        "print('D is {:.3f}'.format(results[0]))\n",
        "print('The p value is {:.4f}'.format(results[1]))"
      ],
      "execution_count": null,
      "outputs": [
        {
          "name": "stdout",
          "output_type": "stream",
          "text": [
            "D is 0.220\n",
            "The p value is 0.0339\n"
          ]
        }
      ]
    },
    {
      "cell_type": "markdown",
      "metadata": {
        "id": "LDg02gb42oLO"
      },
      "source": [
        "The result is a 96.5 percent chance of these distributions being different.  Or we can state that this is below the significance level of 0.05. We can conclude that we can reject the null hypothesis that the bees do not prefer one tree over another."
      ]
    },
    {
      "cell_type": "markdown",
      "metadata": {
        "id": "DuOgsEAC2oLP"
      },
      "source": [
        "***"
      ]
    },
    {
      "cell_type": "markdown",
      "metadata": {
        "id": "yd--QOMN2oLP"
      },
      "source": [
        "# Chi square test"
      ]
    },
    {
      "cell_type": "markdown",
      "metadata": {
        "id": "4qvuUbrB2oLP"
      },
      "source": [
        "## Question"
      ]
    },
    {
      "cell_type": "markdown",
      "metadata": {
        "id": "caAUfFn72oLP"
      },
      "source": [
        "You publish flyers for an event in three different colours and want to test whether the colour has a significant affect on whether people take them. The data is available below.  Use the $\\chi^2$ test to do this, and calculate the probability of the significance of the result.\n",
        "\n",
        "| |white | light blue | neon pink | Totals|\n",
        "|---|---|---|---|---|\n",
        "|Take | 32| 38 | 20| 90| \n",
        "|Don't take | 8| 22 |30 | 60| \n",
        "|Totals | 40|60 | 50| 150| "
      ]
    },
    {
      "cell_type": "markdown",
      "metadata": {
        "id": "jPlsnvZ12oLQ"
      },
      "source": [
        "### Answer"
      ]
    },
    {
      "cell_type": "markdown",
      "metadata": {
        "id": "ZrMsoj502oLQ"
      },
      "source": [
        "Expected values are calculated eg for white flier and take, we have 90 taken with 40/150 total ie E = $90/150=60$% of 40 white fliers are taken.  Therefore expected value is 24.\n",
        "\n",
        "| |white | light blue | neon pink | Totals|\n",
        "|---|---|---|---|---|\n",
        "|Take | 32 [E=24] | 38 [E=36]| 20 [E=30]| 90| \n",
        "|Don't take | 8 [E=16]| 22 [E=24] |30 [E=20]| 60| \n",
        "|Totals | 40|60 | 50| 150| \n",
        "\n",
        "Number degrees of freedom is $n_{\\rm data} - n_{\\rm params} = 6 - 4 = 2$.\n"
      ]
    },
    {
      "cell_type": "code",
      "metadata": {
        "id": "hkHjHDRf2oLQ",
        "outputId": "f5a5532b-bd5e-4514-de6b-611b24206f36"
      },
      "source": [
        "observed = np.array([32.,38.,20.,8.,22.,30.])\n",
        "expected = np.array([24.,36.,30.,16.,24.,20.])\n",
        "\n",
        "chi_squared =np.sum((observed - expected)**2.0/expected)\n",
        "print('chi-squared statistic for colour of fliers and taking them is {:.2f}'.format(chi_squared))"
      ],
      "execution_count": null,
      "outputs": [
        {
          "name": "stdout",
          "output_type": "stream",
          "text": [
            "chi-squared statistic for colour of fliers and taking them is 15.28\n"
          ]
        }
      ]
    },
    {
      "cell_type": "markdown",
      "metadata": {
        "id": "ZBhHHWNi2oLR"
      },
      "source": [
        "This is higher than the value of critical $\\chi^2$ for $\\alpha=0.05$ - it's at the prob $< 0.001$ level using the probabilitiy table for chi-squared, therefore this result is highly significant and we can reject the null hypothesis."
      ]
    },
    {
      "cell_type": "markdown",
      "metadata": {
        "id": "eEs5qfGT2oLR"
      },
      "source": [
        "***"
      ]
    }
  ]
}